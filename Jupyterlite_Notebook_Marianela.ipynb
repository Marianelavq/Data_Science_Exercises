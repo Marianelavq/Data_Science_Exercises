{
  "metadata": {
    "kernelspec": {
      "name": "python",
      "display_name": "Python (Pyodide)",
      "language": "python"
    },
    "language_info": {
      "codemirror_mode": {
        "name": "python",
        "version": 3
      },
      "file_extension": ".py",
      "mimetype": "text/x-python",
      "name": "python",
      "nbconvert_exporter": "python",
      "pygments_lexer": "ipython3",
      "version": "3.8"
    }
  },
  "nbformat_minor": 4,
  "nbformat": 4,
  "cells": [
    {
      "cell_type": "markdown",
      "source": "# Data Science Exercises Notebook",
      "metadata": {}
    },
    {
      "cell_type": "markdown",
      "source": "## Introduction\nThis notebook will cover some basic exercises related to data science using Markdown cells and Python code cells.",
      "metadata": {}
    },
    {
      "cell_type": "markdown",
      "source": "## Data Science Languages\nThe most commonly used languages for data science are:\n- Python\n- R\n- SQL\n- Julia\n- Scala",
      "metadata": {}
    },
    {
      "cell_type": "markdown",
      "source": "## Data Science Libraries\nPopular libraries used in data science include:\n- Pandas\n- NumPy\n- Matplotlib\n- Scikit-learn\n- TensorFlow\n- Keras",
      "metadata": {}
    },
    {
      "cell_type": "markdown",
      "source": "## Data Science Tools\n| Tool           | Description                                    |\n|----------------|------------------------------------------------|\n| Jupyter        | Interactive computing environment              |\n| RStudio        | Integrated development environment (IDE) for R |\n| TensorFlow     | Library for deep learning                      |\n| Apache Spark   | Cluster-computing framework                    |\n| Tableau        | Data visualization tool                        |\n",
      "metadata": {}
    },
    {
      "cell_type": "markdown",
      "source": "## Arithmetic Expression Examples\nHere are some examples of arithmetic operations:\n- Addition: `3 + 2 = 5`\n- Multiplication: `4 * 5 = 20`\n- Division: `10 / 2 = 5`",
      "metadata": {}
    },
    {
      "cell_type": "code",
      "source": "# Addition operation\n3+2",
      "metadata": {
        "trusted": true
      },
      "outputs": [
        {
          "execution_count": 1,
          "output_type": "execute_result",
          "data": {
            "text/plain": "5"
          },
          "metadata": {}
        }
      ],
      "execution_count": 1
    },
    {
      "cell_type": "code",
      "source": "# Multiplication operation\n4*8",
      "metadata": {
        "trusted": true
      },
      "outputs": [
        {
          "execution_count": 2,
          "output_type": "execute_result",
          "data": {
            "text/plain": "32"
          },
          "metadata": {}
        }
      ],
      "execution_count": 2
    },
    {
      "cell_type": "code",
      "source": "# Division operation\n10/2",
      "metadata": {
        "trusted": true
      },
      "outputs": [
        {
          "execution_count": 3,
          "output_type": "execute_result",
          "data": {
            "text/plain": "5.0"
          },
          "metadata": {}
        }
      ],
      "execution_count": 3
    },
    {
      "cell_type": "markdown",
      "source": "# Multiplying and adding numbers\nmultiplication = 8 * 2\naddition = 1 + 1\nmultiplication, addition",
      "metadata": {}
    },
    {
      "cell_type": "code",
      "source": "# Multiplication operation\n(8 * 2)+(1+1)",
      "metadata": {
        "trusted": true
      },
      "outputs": [
        {
          "execution_count": 6,
          "output_type": "execute_result",
          "data": {
            "text/plain": "18"
          },
          "metadata": {}
        }
      ],
      "execution_count": 6
    },
    {
      "cell_type": "markdown",
      "source": "# Converting minutes to hours\nminutes = 120\nhours = minutes / 60\nhours",
      "metadata": {}
    },
    {
      "cell_type": "code",
      "source": "# Converting minutes to hours\nminutes = 120\nhours = minutes / 60\nhours",
      "metadata": {
        "trusted": true
      },
      "outputs": [
        {
          "execution_count": 8,
          "output_type": "execute_result",
          "data": {
            "text/plain": "2.0"
          },
          "metadata": {}
        }
      ],
      "execution_count": 8
    },
    {
      "cell_type": "code",
      "source": "# Listing objectives\nobjectives = [\n    \"Learn Jupyterlite Notebook:\",\n    \"1.- Learn basic data science concepts\",\n    \"2.- Practice using Jupyter notebooks\",\n    \"3.- Familiarize with Markdown and Python code cells\"\n]\nfor obj in objectives:\n    print(obj)",
      "metadata": {
        "trusted": true
      },
      "outputs": [
        {
          "name": "stdout",
          "text": "Learn Jupyterlite Notebook:\n1.- Learn basic data science concepts\n2.- Practice using Jupyter notebooks\n3.- Familiarize with Markdown and Python code cells\n",
          "output_type": "stream"
        }
      ],
      "execution_count": 13
    },
    {
      "cell_type": "markdown",
      "source": "## Author\nName: [Marianela Vásquez]",
      "metadata": {}
    }
  ]
}